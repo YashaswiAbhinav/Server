{
  "nbformat": 4,
  "nbformat_minor": 0,
  "metadata": {
    "colab": {
      "provenance": [],
      "include_colab_link": true
    },
    "kernelspec": {
      "name": "python3",
      "display_name": "Python 3"
    },
    "language_info": {
      "name": "python"
    }
  },
  "cells": [
    {
      "cell_type": "markdown",
      "metadata": {
        "id": "view-in-github",
        "colab_type": "text"
      },
      "source": [
        "<a href=\"https://colab.research.google.com/github/YashaswiAbhinav/Server/blob/main/PerceptronCodeTF.ipynb\" target=\"_parent\"><img src=\"https://colab.research.google.com/assets/colab-badge.svg\" alt=\"Open In Colab\"/></a>"
      ]
    },
    {
      "cell_type": "code",
      "source": [
        "import tensorflow as tf\n",
        "import numpy as np"
      ],
      "metadata": {
        "id": "LhDQDrIa13Hg"
      },
      "execution_count": 1,
      "outputs": []
    },
    {
      "cell_type": "code",
      "source": [
        "# Define the data\n",
        "X = np.array([[0, 0], [0, 1], [1, 0], [1, 1]])\n",
        "y = np.array([[0], [1], [1], [0]])\n",
        "Test_X=np.array([[0, 0], [0, 0], [0, 0], [0, 0]])"
      ],
      "metadata": {
        "id": "zT-2R4vq2Ay1"
      },
      "execution_count": 2,
      "outputs": []
    },
    {
      "cell_type": "code",
      "source": [
        "# Define the model\n",
        "model = tf.keras.models.Sequential([\n",
        "    tf.keras.layers.Dense(1, activation='sigmoid', input_shape=(2,)) ])\n",
        "# means each data point is a pair of two values like(X1,X2)\n",
        "#sigmoid function is used in binary classification problems and output is sliced between(0,1), where as RelU is used in non linear classification problems\n",
        "#with outputs sliced in the range (0, infinity) and it does not have vanishing gradient problem like sigmoid and is computationally efficient\n",
        "#Hence usually Sigmoid or softmax is used in output layers and ReLU is used in hidden layers of a binary and multiclass classification problems"
      ],
      "metadata": {
        "id": "gMB8XPPN2EVN",
        "outputId": "b308fcd1-df2e-463c-fdd1-5f56ec25ab93",
        "colab": {
          "base_uri": "https://localhost:8080/"
        }
      },
      "execution_count": 3,
      "outputs": [
        {
          "output_type": "stream",
          "name": "stderr",
          "text": [
            "/usr/local/lib/python3.11/dist-packages/keras/src/layers/core/dense.py:87: UserWarning: Do not pass an `input_shape`/`input_dim` argument to a layer. When using Sequential models, prefer using an `Input(shape)` object as the first layer in the model instead.\n",
            "  super().__init__(activity_regularizer=activity_regularizer, **kwargs)\n"
          ]
        }
      ]
    },
    {
      "cell_type": "code",
      "source": [
        "# Compile the model\n",
        "model.compile(optimizer='adam', loss='binary_crossentropy', metrics=['accuracy']) # loss='binary_crossentropy' is used for binary classification problems"
      ],
      "metadata": {
        "id": "TKFnnk0a14Ig"
      },
      "execution_count": 4,
      "outputs": []
    },
    {
      "cell_type": "code",
      "source": [
        "# Train the model\n",
        "# try with different epochs and see accuracy improves\n",
        "model.fit(X, y, epochs=1000, verbose=0)"
      ],
      "metadata": {
        "id": "hHc53-p-2MZz",
        "outputId": "8ffeffbb-47c4-46fb-9edc-df3620d01a6e",
        "colab": {
          "base_uri": "https://localhost:8080/"
        }
      },
      "execution_count": 5,
      "outputs": [
        {
          "output_type": "execute_result",
          "data": {
            "text/plain": [
              "<keras.src.callbacks.history.History at 0x7811d677ca10>"
            ]
          },
          "metadata": {},
          "execution_count": 5
        }
      ]
    },
    {
      "cell_type": "code",
      "source": [
        "# Evaluate the model\n",
        "loss, accuracy = model.evaluate(X, y)\n",
        "print(f'Test Loss: {loss:.4f}')\n",
        "print(f'Test Accuracy: {accuracy:.4f}')"
      ],
      "metadata": {
        "id": "b_FHzgDb2Ncq",
        "colab": {
          "base_uri": "https://localhost:8080/"
        },
        "outputId": "1a00cdb9-19c7-4b2e-ca0e-af16baa3ff39"
      },
      "execution_count": 6,
      "outputs": [
        {
          "output_type": "stream",
          "name": "stdout",
          "text": [
            "\u001b[1m1/1\u001b[0m \u001b[32m━━━━━━━━━━━━━━━━━━━━\u001b[0m\u001b[37m\u001b[0m \u001b[1m0s\u001b[0m 168ms/step - accuracy: 0.5000 - loss: 0.7078\n",
            "Test Loss: 0.7078\n",
            "Test Accuracy: 0.5000\n"
          ]
        }
      ]
    },
    {
      "cell_type": "code",
      "source": [
        "# Make predictions\n",
        "predictions = model.predict(Test_X)\n",
        "print(f'Predictions: {predictions}')"
      ],
      "metadata": {
        "id": "yHDPUOL42Tj5",
        "colab": {
          "base_uri": "https://localhost:8080/"
        },
        "outputId": "121d8bb1-920c-4a60-9507-b3505a913539"
      },
      "execution_count": 7,
      "outputs": [
        {
          "output_type": "stream",
          "name": "stdout",
          "text": [
            "\u001b[1m1/1\u001b[0m \u001b[32m━━━━━━━━━━━━━━━━━━━━\u001b[0m\u001b[37m\u001b[0m \u001b[1m0s\u001b[0m 56ms/step\n",
            "Predictions: [[0.6228458]\n",
            " [0.6228458]\n",
            " [0.6228458]\n",
            " [0.6228458]]\n"
          ]
        }
      ]
    }
  ]
}